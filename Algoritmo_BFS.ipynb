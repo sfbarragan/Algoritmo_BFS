{
 "cells": [
  {
   "cell_type": "code",
   "execution_count": null,
   "id": "8bd62328",
   "metadata": {},
   "outputs": [],
   "source": [
    "#Importamos la libreria Queue\n",
    "from queue import Queue\n",
    "\n",
    "class Grafo():\n",
    "    "
   ]
  }
 ],
 "metadata": {
  "kernelspec": {
   "display_name": "Python 3 (ipykernel)",
   "language": "python",
   "name": "python3"
  },
  "language_info": {
   "codemirror_mode": {
    "name": "ipython",
    "version": 3
   },
   "file_extension": ".py",
   "mimetype": "text/x-python",
   "name": "python",
   "nbconvert_exporter": "python",
   "pygments_lexer": "ipython3",
   "version": "3.9.7"
  }
 },
 "nbformat": 4,
 "nbformat_minor": 5
}
